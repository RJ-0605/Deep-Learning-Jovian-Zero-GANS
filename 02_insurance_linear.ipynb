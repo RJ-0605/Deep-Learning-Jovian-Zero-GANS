{
  "nbformat": 4,
  "nbformat_minor": 0,
  "metadata": {
    "colab": {
      "name": "02-insurance-linear.ipynb",
      "provenance": [],
      "include_colab_link": true
    },
    "kernelspec": {
      "display_name": "Python 3",
      "language": "python",
      "name": "python3"
    },
    "language_info": {
      "codemirror_mode": {
        "name": "ipython",
        "version": 3
      },
      "file_extension": ".py",
      "mimetype": "text/x-python",
      "name": "python",
      "nbconvert_exporter": "python",
      "pygments_lexer": "ipython3",
      "version": "3.8.5"
    }
  },
  "cells": [
    {
      "cell_type": "markdown",
      "metadata": {
        "id": "view-in-github",
        "colab_type": "text"
      },
      "source": [
        "<a href=\"https://colab.research.google.com/github/RJ-0605/Deep-Learning-Jovian-Zero-GANS/blob/main/02_insurance_linear.ipynb\" target=\"_parent\"><img src=\"https://colab.research.google.com/assets/colab-badge.svg\" alt=\"Open In Colab\"/></a>"
      ]
    },
    {
      "cell_type": "code",
      "metadata": {
        "id": "XM-mw306pZ6L"
      },
      "source": [
        "# Jovian Commit Essentials\n",
        "# Please retain and execute this cell without modifying the contents for `jovian.commit` to work\n",
        "!pip install jovian --upgrade -q\n",
        "import jovian\n",
        "jovian.utils.colab.set_colab_file_id('13npjD5e4GjYOIxTJlv_IbSMJiR0uuNdU')"
      ],
      "execution_count": null,
      "outputs": []
    },
    {
      "cell_type": "markdown",
      "metadata": {
        "_cell_guid": "b1076dfc-b9ad-4769-8c92-a6c4dae69d19",
        "_uuid": "8f2839f25d086af736a60e9eeb907d3b93b6e0e5",
        "id": "uBE8tXrzNmNI"
      },
      "source": [
        "# Insurance cost prediction using linear regression\n",
        "\n",
        "Make a submisson here: https://jovian.ai/learn/deep-learning-with-pytorch-zero-to-gans/assignment/assignment-2-train-your-first-model\n",
        "\n",
        "In this assignment we're going to use information like a person's age, sex, BMI, no. of children and smoking habit to predict the price of yearly medical bills. This kind of model is useful for insurance companies to determine the yearly insurance premium for a person. The dataset for this problem is taken from [Kaggle](https://www.kaggle.com/mirichoi0218/insurance).\n",
        "\n",
        "\n",
        "We will create a model with the following steps:\n",
        "1. Download and explore the dataset\n",
        "2. Prepare the dataset for training\n",
        "3. Create a linear regression model\n",
        "4. Train the model to fit the data\n",
        "5. Make predictions using the trained model\n",
        "\n",
        "\n",
        "This assignment builds upon the concepts from the first 2 lessons. It will help to review these Jupyter notebooks:\n",
        "- PyTorch basics: https://jovian.ai/aakashns/01-pytorch-basics\n",
        "- Linear Regression: https://jovian.ai/aakashns/02-linear-regression\n",
        "- Logistic Regression: https://jovian.ai/aakashns/03-logistic-regression\n",
        "- Linear regression (minimal): https://jovian.ai/aakashns/housing-linear-minimal\n",
        "- Logistic regression (minimal): https://jovian.ai/aakashns/mnist-logistic-minimal\n",
        "\n",
        "As you go through this notebook, you will find a **???** in certain places. Your job is to replace the **???** with appropriate code or values, to ensure that the notebook runs properly end-to-end . In some cases, you'll be required to choose some hyperparameters (learning rate, batch size etc.). Try to experiment with the hypeparameters to get the lowest loss.\n"
      ]
    },
    {
      "cell_type": "code",
      "metadata": {
        "id": "9qYOr5BENmNK"
      },
      "source": [
        "# Uncomment and run the appropriate command for your operating system, if required\n",
        "\n",
        "# Linux / Binder\n",
        "# !pip install numpy matplotlib pandas torch==1.7.0+cpu torchvision==0.8.1+cpu torchaudio==0.7.0 -f https://download.pytorch.org/whl/torch_stable.html\n",
        "\n",
        "# Windows\n",
        "# !pip install numpy matplotlib pandas torch==1.7.0+cpu torchvision==0.8.1+cpu torchaudio==0.7.0 -f https://download.pytorch.org/whl/torch_stable.html\n",
        "\n",
        "# MacOS\n",
        "# !pip install numpy matplotlib pandas torch torchvision torchaudio"
      ],
      "execution_count": null,
      "outputs": []
    },
    {
      "cell_type": "code",
      "metadata": {
        "id": "cmhDat6dNmNL"
      },
      "source": [
        "import torch\n",
        "import jovian\n",
        "import torchvision\n",
        "import torch.nn as nn\n",
        "import pandas as pd\n",
        "import matplotlib.pyplot as plt\n",
        "import torch.nn.functional as F\n",
        "from torchvision.datasets.utils import download_url\n",
        "from torch.utils.data import DataLoader, TensorDataset, random_split"
      ],
      "execution_count": null,
      "outputs": []
    },
    {
      "cell_type": "code",
      "metadata": {
        "id": "_g1SNozSNmNL"
      },
      "source": [
        "project_name='02-insurance-linear-regression' # will be used by jovian.commit"
      ],
      "execution_count": null,
      "outputs": []
    },
    {
      "cell_type": "markdown",
      "metadata": {
        "id": "lezD5Eg3NmNM"
      },
      "source": [
        "## Step 1: Download and explore the data\n",
        "\n",
        "Let us begin by downloading the data. We'll use the `download_url` function from PyTorch to get the data as a CSV (comma-separated values) file. "
      ]
    },
    {
      "cell_type": "code",
      "metadata": {
        "_cell_guid": "79c7e3d0-c299-4dcb-8224-4455121ee9b0",
        "_uuid": "d629ff2d2480ee46fbb7e2d37f6b5fab8052498a",
        "colab": {
          "base_uri": "https://localhost:8080/"
        },
        "id": "RyPrRLQ2NmNN",
        "outputId": "29ad58a4-fb5b-4645-ad3f-c18d45889549"
      },
      "source": [
        "DATASET_URL = \"https://hub.jovian.ml/wp-content/uploads/2020/05/insurance.csv\"\n",
        "DATA_FILENAME = \"insurance.csv\"\n",
        "download_url(DATASET_URL, '.')"
      ],
      "execution_count": null,
      "outputs": [
        {
          "output_type": "stream",
          "text": [
            "Using downloaded and verified file: ./insurance.csv\n"
          ],
          "name": "stdout"
        }
      ]
    },
    {
      "cell_type": "markdown",
      "metadata": {
        "id": "JybCi_1xNmNO"
      },
      "source": [
        "To load the dataset into memory, we'll use the `read_csv` function from the `pandas` library. The data will be loaded as a Pandas dataframe. See this short tutorial to learn more: https://data36.com/pandas-tutorial-1-basics-reading-data-files-dataframes-data-selection/"
      ]
    },
    {
      "cell_type": "code",
      "metadata": {
        "colab": {
          "base_uri": "https://localhost:8080/",
          "height": 204
        },
        "id": "GFXiWBc2NmNP",
        "outputId": "977ce25b-2331-4ac0-ed03-756cf352a2ec"
      },
      "source": [
        "dataframe_raw = pd.read_csv(DATA_FILENAME)\n",
        "dataframe_raw.head()"
      ],
      "execution_count": null,
      "outputs": [
        {
          "output_type": "execute_result",
          "data": {
            "text/html": [
              "<div>\n",
              "<style scoped>\n",
              "    .dataframe tbody tr th:only-of-type {\n",
              "        vertical-align: middle;\n",
              "    }\n",
              "\n",
              "    .dataframe tbody tr th {\n",
              "        vertical-align: top;\n",
              "    }\n",
              "\n",
              "    .dataframe thead th {\n",
              "        text-align: right;\n",
              "    }\n",
              "</style>\n",
              "<table border=\"1\" class=\"dataframe\">\n",
              "  <thead>\n",
              "    <tr style=\"text-align: right;\">\n",
              "      <th></th>\n",
              "      <th>age</th>\n",
              "      <th>sex</th>\n",
              "      <th>bmi</th>\n",
              "      <th>children</th>\n",
              "      <th>smoker</th>\n",
              "      <th>region</th>\n",
              "      <th>charges</th>\n",
              "    </tr>\n",
              "  </thead>\n",
              "  <tbody>\n",
              "    <tr>\n",
              "      <th>0</th>\n",
              "      <td>19</td>\n",
              "      <td>female</td>\n",
              "      <td>27.900</td>\n",
              "      <td>0</td>\n",
              "      <td>yes</td>\n",
              "      <td>southwest</td>\n",
              "      <td>16884.92400</td>\n",
              "    </tr>\n",
              "    <tr>\n",
              "      <th>1</th>\n",
              "      <td>18</td>\n",
              "      <td>male</td>\n",
              "      <td>33.770</td>\n",
              "      <td>1</td>\n",
              "      <td>no</td>\n",
              "      <td>southeast</td>\n",
              "      <td>1725.55230</td>\n",
              "    </tr>\n",
              "    <tr>\n",
              "      <th>2</th>\n",
              "      <td>28</td>\n",
              "      <td>male</td>\n",
              "      <td>33.000</td>\n",
              "      <td>3</td>\n",
              "      <td>no</td>\n",
              "      <td>southeast</td>\n",
              "      <td>4449.46200</td>\n",
              "    </tr>\n",
              "    <tr>\n",
              "      <th>3</th>\n",
              "      <td>33</td>\n",
              "      <td>male</td>\n",
              "      <td>22.705</td>\n",
              "      <td>0</td>\n",
              "      <td>no</td>\n",
              "      <td>northwest</td>\n",
              "      <td>21984.47061</td>\n",
              "    </tr>\n",
              "    <tr>\n",
              "      <th>4</th>\n",
              "      <td>32</td>\n",
              "      <td>male</td>\n",
              "      <td>28.880</td>\n",
              "      <td>0</td>\n",
              "      <td>no</td>\n",
              "      <td>northwest</td>\n",
              "      <td>3866.85520</td>\n",
              "    </tr>\n",
              "  </tbody>\n",
              "</table>\n",
              "</div>"
            ],
            "text/plain": [
              "   age     sex     bmi  children smoker     region      charges\n",
              "0   19  female  27.900         0    yes  southwest  16884.92400\n",
              "1   18    male  33.770         1     no  southeast   1725.55230\n",
              "2   28    male  33.000         3     no  southeast   4449.46200\n",
              "3   33    male  22.705         0     no  northwest  21984.47061\n",
              "4   32    male  28.880         0     no  northwest   3866.85520"
            ]
          },
          "metadata": {
            "tags": []
          },
          "execution_count": 7
        }
      ]
    },
    {
      "cell_type": "markdown",
      "metadata": {
        "id": "qVOoMym6NmNQ"
      },
      "source": [
        "We're going to do a slight customization of the data, so that you every participant receives a slightly different version of the dataset. Fill in your name below as a string (enter at least 5 characters)"
      ]
    },
    {
      "cell_type": "code",
      "metadata": {
        "id": "kyJN05H1NmNQ"
      },
      "source": [
        "your_name = \"Rodney\" # at least 5 characters"
      ],
      "execution_count": null,
      "outputs": []
    },
    {
      "cell_type": "markdown",
      "metadata": {
        "id": "4O08S897NmNR"
      },
      "source": [
        "The `customize_dataset` function will customize the dataset slightly using your name as a source of random numbers."
      ]
    },
    {
      "cell_type": "code",
      "metadata": {
        "id": "cjWvSQh6NmNR"
      },
      "source": [
        "def customize_dataset(dataframe_raw, rand_str):\n",
        "    dataframe = dataframe_raw.copy(deep=True)\n",
        "    # drop some rows\n",
        "    dataframe = dataframe.sample(int(0.95*len(dataframe)), random_state=int(ord(rand_str[0])))\n",
        "    # scale input\n",
        "    dataframe.bmi = dataframe.bmi * ord(rand_str[1])/100.\n",
        "    # scale target\n",
        "    dataframe.charges = dataframe.charges * ord(rand_str[2])/100.\n",
        "    # drop column\n",
        "    if ord(rand_str[3]) % 2 == 1:\n",
        "        dataframe = dataframe.drop(['region'], axis=1)\n",
        "    return dataframe"
      ],
      "execution_count": null,
      "outputs": []
    },
    {
      "cell_type": "code",
      "metadata": {
        "colab": {
          "base_uri": "https://localhost:8080/",
          "height": 204
        },
        "id": "Bw3dRcf3NmNS",
        "outputId": "7b7dae1d-2c3d-4116-a128-6bb16cf6381a"
      },
      "source": [
        "dataframe = customize_dataset(dataframe_raw, your_name)\n",
        "dataframe.head()"
      ],
      "execution_count": null,
      "outputs": [
        {
          "output_type": "execute_result",
          "data": {
            "text/html": [
              "<div>\n",
              "<style scoped>\n",
              "    .dataframe tbody tr th:only-of-type {\n",
              "        vertical-align: middle;\n",
              "    }\n",
              "\n",
              "    .dataframe tbody tr th {\n",
              "        vertical-align: top;\n",
              "    }\n",
              "\n",
              "    .dataframe thead th {\n",
              "        text-align: right;\n",
              "    }\n",
              "</style>\n",
              "<table border=\"1\" class=\"dataframe\">\n",
              "  <thead>\n",
              "    <tr style=\"text-align: right;\">\n",
              "      <th></th>\n",
              "      <th>age</th>\n",
              "      <th>sex</th>\n",
              "      <th>bmi</th>\n",
              "      <th>children</th>\n",
              "      <th>smoker</th>\n",
              "      <th>region</th>\n",
              "      <th>charges</th>\n",
              "    </tr>\n",
              "  </thead>\n",
              "  <tbody>\n",
              "    <tr>\n",
              "      <th>457</th>\n",
              "      <td>57</td>\n",
              "      <td>female</td>\n",
              "      <td>33.84945</td>\n",
              "      <td>0</td>\n",
              "      <td>no</td>\n",
              "      <td>northwest</td>\n",
              "      <td>11840.77505</td>\n",
              "    </tr>\n",
              "    <tr>\n",
              "      <th>1050</th>\n",
              "      <td>44</td>\n",
              "      <td>female</td>\n",
              "      <td>41.02005</td>\n",
              "      <td>1</td>\n",
              "      <td>no</td>\n",
              "      <td>northwest</td>\n",
              "      <td>8023.13545</td>\n",
              "    </tr>\n",
              "    <tr>\n",
              "      <th>56</th>\n",
              "      <td>58</td>\n",
              "      <td>female</td>\n",
              "      <td>35.32575</td>\n",
              "      <td>2</td>\n",
              "      <td>no</td>\n",
              "      <td>northeast</td>\n",
              "      <td>13607.36875</td>\n",
              "    </tr>\n",
              "    <tr>\n",
              "      <th>311</th>\n",
              "      <td>19</td>\n",
              "      <td>female</td>\n",
              "      <td>27.41700</td>\n",
              "      <td>0</td>\n",
              "      <td>no</td>\n",
              "      <td>southwest</td>\n",
              "      <td>1737.37600</td>\n",
              "    </tr>\n",
              "    <tr>\n",
              "      <th>1288</th>\n",
              "      <td>20</td>\n",
              "      <td>male</td>\n",
              "      <td>43.73400</td>\n",
              "      <td>2</td>\n",
              "      <td>yes</td>\n",
              "      <td>southwest</td>\n",
              "      <td>38344.56600</td>\n",
              "    </tr>\n",
              "  </tbody>\n",
              "</table>\n",
              "</div>"
            ],
            "text/plain": [
              "      age     sex       bmi  children smoker     region      charges\n",
              "457    57  female  33.84945         0     no  northwest  11840.77505\n",
              "1050   44  female  41.02005         1     no  northwest   8023.13545\n",
              "56     58  female  35.32575         2     no  northeast  13607.36875\n",
              "311    19  female  27.41700         0     no  southwest   1737.37600\n",
              "1288   20    male  43.73400         2    yes  southwest  38344.56600"
            ]
          },
          "metadata": {
            "tags": []
          },
          "execution_count": 10
        }
      ]
    },
    {
      "cell_type": "markdown",
      "metadata": {
        "id": "ickvVL8LNmNS"
      },
      "source": [
        "Let us answer some basic questions about the dataset. \n",
        "\n",
        "\n",
        "**Q: How many rows does the dataset have?**"
      ]
    },
    {
      "cell_type": "code",
      "metadata": {
        "colab": {
          "base_uri": "https://localhost:8080/"
        },
        "id": "zZW6JHJmNmNS",
        "outputId": "d0781b62-fa32-40e6-ac00-06af0abf8116"
      },
      "source": [
        "# num_rows = ???\n",
        "index_rows = dataframe.index\n",
        "print(index_rows)\n",
        "num_rows = len(index_rows)\n",
        "\n",
        "print(num_rows)\n"
      ],
      "execution_count": null,
      "outputs": [
        {
          "output_type": "stream",
          "text": [
            "Int64Index([ 457, 1050,   56,  311, 1288, 1145,  912,  769,  283,  288,\n",
            "            ...\n",
            "            1265,  629, 1320,  140,  134,  209, 1036, 1206,  878,  887],\n",
            "           dtype='int64', length=1271)\n",
            "1271\n"
          ],
          "name": "stdout"
        }
      ]
    },
    {
      "cell_type": "markdown",
      "metadata": {
        "id": "9gTo0CYRNmNT"
      },
      "source": [
        "**Q: How many columns doe the dataset have**"
      ]
    },
    {
      "cell_type": "code",
      "metadata": {
        "colab": {
          "base_uri": "https://localhost:8080/"
        },
        "id": "NqeI-_nkNmNT",
        "outputId": "8f4ef02b-ce06-4c5d-ede2-0c2893d2f25c"
      },
      "source": [
        "index_cols = dataframe.columns\n",
        "num_cols = len(index_cols)\n",
        "\n",
        "print(num_cols)"
      ],
      "execution_count": null,
      "outputs": [
        {
          "output_type": "stream",
          "text": [
            "7\n"
          ],
          "name": "stdout"
        }
      ]
    },
    {
      "cell_type": "markdown",
      "metadata": {
        "id": "5G4AQrpeNmNT"
      },
      "source": [
        "**Q: What are the column titles of the input variables?**"
      ]
    },
    {
      "cell_type": "code",
      "metadata": {
        "colab": {
          "base_uri": "https://localhost:8080/"
        },
        "id": "Oc3DMI2vNmNT",
        "outputId": "f24dc89a-a024-496d-a751-6321cc9a6174"
      },
      "source": [
        "list_col = list(dataframe.columns)\n",
        "print(list_col)\n",
        "input_cols = list\n",
        "print(input_cols)"
      ],
      "execution_count": null,
      "outputs": [
        {
          "output_type": "stream",
          "text": [
            "['age', 'sex', 'bmi', 'children', 'smoker', 'region', 'charges']\n",
            "<class 'list'>\n"
          ],
          "name": "stdout"
        }
      ]
    },
    {
      "cell_type": "markdown",
      "metadata": {
        "id": "lpLDPgYNNmNT"
      },
      "source": [
        "**Q: Which of the input columns are non-numeric or categorial variables ?**\n",
        "\n",
        "Hint: `sex` is one of them. List the columns that are not numbers."
      ]
    },
    {
      "cell_type": "code",
      "metadata": {
        "colab": {
          "base_uri": "https://localhost:8080/"
        },
        "id": "CprY-dBWNmNU",
        "outputId": "d14e15c6-512e-420a-d6b6-df3be2f2ce59"
      },
      "source": [
        "categorical_cols = [i for i in dataframe.select_dtypes(exclude=['number']).columns]\n",
        "categorical_cols"
      ],
      "execution_count": null,
      "outputs": [
        {
          "output_type": "execute_result",
          "data": {
            "text/plain": [
              "['sex', 'smoker', 'region']"
            ]
          },
          "metadata": {
            "tags": []
          },
          "execution_count": 39
        }
      ]
    },
    {
      "cell_type": "markdown",
      "metadata": {
        "id": "w0CWu3SENmNU"
      },
      "source": [
        "**Q: What are the column titles of output/target variable(s)?**"
      ]
    },
    {
      "cell_type": "code",
      "metadata": {
        "colab": {
          "base_uri": "https://localhost:8080/"
        },
        "id": "5DgSzNDzNmNU",
        "outputId": "fe5c75e8-1ed5-4c50-c3e8-1090c136ab76"
      },
      "source": [
        "output_cols = [dataframe.columns[-1]]\n",
        "output_cols"
      ],
      "execution_count": null,
      "outputs": [
        {
          "output_type": "execute_result",
          "data": {
            "text/plain": [
              "['charges']"
            ]
          },
          "metadata": {
            "tags": []
          },
          "execution_count": 42
        }
      ]
    },
    {
      "cell_type": "markdown",
      "metadata": {
        "id": "8EgpB51XNmNU"
      },
      "source": [
        "**Q: (Optional) What is the minimum, maximum and average value of the `charges` column? Can you show the distribution of values in a graph?**\n",
        "Use this data visualization cheatsheet for referece: https://jovian.ml/aakashns/dataviz-cheatsheet"
      ]
    },
    {
      "cell_type": "code",
      "metadata": {
        "colab": {
          "base_uri": "https://localhost:8080/"
        },
        "id": "iW4HDjf6NmNV",
        "outputId": "e63a3c4b-3f0b-4514-d98a-2a94b99af7f0"
      },
      "source": [
        "# Write your answer here\n",
        "print(\"Minimum value of the charges column is \" , dataframe['charges'].min())\n",
        "print(\"Maximum value of the charges column is  \", dataframe['charges'].max())\n",
        "print(\"Average value of the charges column is  \", dataframe['charges'].mean())"
      ],
      "execution_count": null,
      "outputs": [
        {
          "output_type": "stream",
          "text": [
            "Minimum value of the charges column is  1121.8739\n",
            "Maximum value of the charges column is   63770.42801\n",
            "Average value of the charges column is   13120.984621698673\n"
          ],
          "name": "stdout"
        }
      ]
    },
    {
      "cell_type": "code",
      "metadata": {
        "colab": {
          "base_uri": "https://localhost:8080/",
          "height": 606
        },
        "id": "Rzwpqn-AdJd2",
        "outputId": "be15cea1-053e-463c-f96d-77ae83df4aed"
      },
      "source": [
        "%matplotlib inline\n",
        "\n",
        "plt.figure(figsize=(12,10))\n",
        "plt.hist(dataframe.charges)\n",
        "plt.grid()\n",
        "plt.xlabel(\"Charges\");"
      ],
      "execution_count": null,
      "outputs": [
        {
          "output_type": "display_data",
          "data": {
            "image/png": "[encoded data removed]",
            "text/plain": [
              "<Figure size 864x720 with 1 Axes>"
            ]
          },
          "metadata": {
            "tags": [],
            "needs_background": "light"
          }
        }
      ]
    },
    {
      "cell_type": "code",
      "metadata": {
        "colab": {
          "base_uri": "https://localhost:8080/",
          "height": 670
        },
        "id": "CJQYexpGda2Y",
        "outputId": "5780c9c2-5de2-46e6-9132-0ce581297904"
      },
      "source": [
        "import seaborn as sns\n",
        "\n",
        "sns.set_style(\"darkgrid\")\n",
        "\n",
        "plt.figure(figsize=(12,10))\n",
        "sns.distplot(dataframe.charges, kde=True);"
      ],
      "execution_count": null,
      "outputs": [
        {
          "output_type": "stream",
          "text": [
            "/usr/local/lib/python3.6/dist-packages/seaborn/distributions.py:2551: FutureWarning: `distplot` is a deprecated function and will be removed in a future version. Please adapt your code to use either `displot` (a figure-level function with similar flexibility) or `histplot` (an axes-level function for histograms).\n",
            "  warnings.warn(msg, FutureWarning)\n"
          ],
          "name": "stderr"
        },
        {
          "output_type": "display_data",
          "data": {
            "image/png": "[encoded data removed]",
            "text/plain": [
              "<Figure size 864x720 with 1 Axes>"
            ]
          },
          "metadata": {
            "tags": []
          }
        }
      ]
    },
    {
      "cell_type": "markdown",
      "metadata": {
        "id": "5BCfmCIaNmNV"
      },
      "source": [
        "Remember to commit your notebook to Jovian after every step, so that you don't lose your work."
      ]
    },
    {
      "cell_type": "code",
      "metadata": {
        "id": "bpQWTs4QNmNV"
      },
      "source": [
        "!pip install jovian --upgrade -q"
      ],
      "execution_count": null,
      "outputs": []
    },
    {
      "cell_type": "code",
      "metadata": {
        "id": "US7wmrz1NmNW"
      },
      "source": [
        "import jovian"
      ],
      "execution_count": null,
      "outputs": []
    },
    {
      "cell_type": "code",
      "metadata": {
        "colab": {
          "base_uri": "https://localhost:8080/",
          "height": 103
        },
        "id": "usvgAtKaNmNW",
        "outputId": "33e58ae0-c853-403b-b03d-7599fe3f8ad6"
      },
      "source": [
        "jovian.commit(project=project_name)"
      ],
      "execution_count": null,
      "outputs": [
        {
          "output_type": "stream",
          "text": [
            "[jovian] Detected Colab notebook...\u001b[0m\n",
            "[jovian] Uploading colab notebook to Jovian...\u001b[0m\n",
            "[jovian] Capturing environment..\u001b[0m\n",
            "[jovian] Committed successfully! https://jovian.ai/rj-0605/02-insurance-linear-regression\u001b[0m\n"
          ],
          "name": "stdout"
        },
        {
          "output_type": "execute_result",
          "data": {
            "application/vnd.google.colaboratory.intrinsic+json": {
              "type": "string"
            },
            "text/plain": [
              "'https://jovian.ai/rj-0605/02-insurance-linear-regression'"
            ]
          },
          "metadata": {
            "tags": []
          },
          "execution_count": 58
        }
      ]
    },
    {
      "cell_type": "markdown",
      "metadata": {
        "id": "eI1orMnONmNW"
      },
      "source": [
        "## Step 2: Prepare the dataset for training\n",
        "\n",
        "We need to convert the data from the Pandas dataframe into a PyTorch tensors for training. To do this, the first step is to convert it numpy arrays. If you've filled out `input_cols`, `categorial_cols` and `output_cols` correctly, this following function will perform the conversion to numpy arrays."
      ]
    },
    {
      "cell_type": "code",
      "metadata": {
        "id": "sfRd19piNmNX"
      },
      "source": [
        "def dataframe_to_arrays(dataframe):\n",
        "    # Make a copy of the original dataframe\n",
        "    dataframe1 = dataframe.copy(deep=True)\n",
        "    # Convert non-numeric categorical columns to numbers\n",
        "    for col in categorical_cols:\n",
        "        dataframe1[col] = dataframe1[col].astype('category').cat.codes\n",
        "    # Extract input & outupts as numpy arrays\n",
        "    inputs_array = dataframe1[input_cols].to_numpy()\n",
        "    targets_array = dataframe1[output_cols].to_numpy()\n",
        "    return inputs_array, targets_array"
      ],
      "execution_count": null,
      "outputs": []
    },
    {
      "cell_type": "markdown",
      "metadata": {
        "id": "qWsQEaGoNmNY"
      },
      "source": [
        "Read through the [Pandas documentation](https://pandas.pydata.org/pandas-docs/stable/user_guide/categorical.html) to understand how we're converting categorical variables into numbers."
      ]
    },
    {
      "cell_type": "code",
      "metadata": {
        "colab": {
          "base_uri": "https://localhost:8080/"
        },
        "id": "xESncrwYNmNY",
        "outputId": "eef7d4f6-b8f3-4c7e-9ff2-5644d881c4e3"
      },
      "source": [
        "inputs_array, targets_array = dataframe_to_arrays(dataframe)\n",
        "inputs_array, targets_array"
      ],
      "execution_count": null,
      "outputs": [
        {
          "output_type": "execute_result",
          "data": {
            "text/plain": [
              "(array([[5.70000000e+01, 0.00000000e+00, 3.38494500e+01, ...,\n",
              "         0.00000000e+00, 1.00000000e+00, 1.18407751e+04],\n",
              "        [4.40000000e+01, 0.00000000e+00, 4.10200500e+01, ...,\n",
              "         0.00000000e+00, 1.00000000e+00, 8.02313545e+03],\n",
              "        [5.80000000e+01, 0.00000000e+00, 3.53257500e+01, ...,\n",
              "         0.00000000e+00, 0.00000000e+00, 1.36073687e+04],\n",
              "        ...,\n",
              "        [5.90000000e+01, 0.00000000e+00, 3.86280000e+01, ...,\n",
              "         0.00000000e+00, 3.00000000e+00, 3.69106080e+04],\n",
              "        [4.10000000e+01, 1.00000000e+00, 3.19680000e+01, ...,\n",
              "         0.00000000e+00, 3.00000000e+00, 6.28223500e+03],\n",
              "        [3.60000000e+01, 0.00000000e+00, 3.33222000e+01, ...,\n",
              "         0.00000000e+00, 1.00000000e+00, 5.27217580e+03]]),\n",
              " array([[11840.77505],\n",
              "        [ 8023.13545],\n",
              "        [13607.36875],\n",
              "        ...,\n",
              "        [36910.60803],\n",
              "        [ 6282.235  ],\n",
              "        [ 5272.1758 ]]))"
            ]
          },
          "metadata": {
            "tags": []
          },
          "execution_count": 60
        }
      ]
    },
    {
      "cell_type": "markdown",
      "metadata": {
        "id": "WFmxQ1DgNmNY"
      },
      "source": [
        "**Q: Convert the numpy arrays `inputs_array` and `targets_array` into PyTorch tensors. Make sure that the data type is `torch.float32`.**"
      ]
    },
    {
      "cell_type": "code",
      "metadata": {
        "id": "mYMPWWopNmNY"
      },
      "source": [
        "inputs = torch.from_numpy(inputs_array).float()\n",
        "targets = torch.Tensor(targets_array)"
      ],
      "execution_count": null,
      "outputs": []
    },
    {
      "cell_type": "code",
      "metadata": {
        "colab": {
          "base_uri": "https://localhost:8080/"
        },
        "id": "5xtcsGGHNmNZ",
        "outputId": "a9f16dba-5533-4f63-dc9b-d7a4cc66e21e"
      },
      "source": [
        "inputs.dtype, targets.dtype"
      ],
      "execution_count": null,
      "outputs": [
        {
          "output_type": "execute_result",
          "data": {
            "text/plain": [
              "(torch.float32, torch.float32)"
            ]
          },
          "metadata": {
            "tags": []
          },
          "execution_count": 62
        }
      ]
    },
    {
      "cell_type": "markdown",
      "metadata": {
        "id": "72PvLN3KNmNZ"
      },
      "source": [
        "Next, we need to create PyTorch datasets & data loaders for training & validation. We'll start by creating a `TensorDataset`."
      ]
    },
    {
      "cell_type": "code",
      "metadata": {
        "id": "xn4hSsf2NmNZ"
      },
      "source": [
        "dataset = TensorDataset(inputs, targets)"
      ],
      "execution_count": null,
      "outputs": []
    },
    {
      "cell_type": "markdown",
      "metadata": {
        "id": "KfTKYgsSNmNZ"
      },
      "source": [
        "**Q: Pick a number between `0.1` and `0.2` to determine the fraction of data that will be used for creating the validation set. Then use `random_split` to create training & validation datasets.**"
      ]
    },
    {
      "cell_type": "code",
      "metadata": {
        "id": "1n8innnbNmNa"
      },
      "source": [
        "val_percent = 0.15 # between 0.1 and 0.2\n",
        "val_size = int(num_rows * val_percent)\n",
        "train_size = num_rows - val_size\n",
        "\n",
        "\n",
        "train_ds, val_ds = random_split(dataset, [train_size, val_size]) \n",
        "# Use the random_split function to split dataset into 2 parts of the desired length"
      ],
      "execution_count": null,
      "outputs": []
    },
    {
      "cell_type": "markdown",
      "metadata": {
        "id": "SCNFY2R2NmNa"
      },
      "source": [
        "Finally, we can create data loaders for training & validation.\n",
        "\n",
        "**Q: Pick a batch size for the data loader.**"
      ]
    },
    {
      "cell_type": "code",
      "metadata": {
        "id": "pcpmvMX8NmNa"
      },
      "source": [
        "batch_size = 40"
      ],
      "execution_count": null,
      "outputs": []
    },
    {
      "cell_type": "code",
      "metadata": {
        "id": "5UoWryX5NmNa"
      },
      "source": [
        "train_loader = DataLoader(train_ds, batch_size, shuffle=True)\n",
        "val_loader = DataLoader(val_ds, batch_size)"
      ],
      "execution_count": null,
      "outputs": []
    },
    {
      "cell_type": "markdown",
      "metadata": {
        "id": "u87DGxzGNmNb"
      },
      "source": [
        "Let's look at a batch of data to verify everything is working fine so far."
      ]
    },
    {
      "cell_type": "code",
      "metadata": {
        "colab": {
          "base_uri": "https://localhost:8080/"
        },
        "id": "FmfyCm7UNmNb",
        "outputId": "fea6752e-045e-4b00-e6e7-e9f895843b85"
      },
      "source": [
        "for xb, yb in train_loader:\n",
        "    print(\"inputs:\", xb)\n",
        "    print(\"targets:\", yb)\n",
        "    break"
      ],
      "execution_count": null,
      "outputs": [
        {
          "output_type": "stream",
          "text": [
            "inputs: tensor([[1.8000e+01, 1.0000e+00, 3.1424e+01, 1.0000e+00, 0.0000e+00, 0.0000e+00,\n",
            "         1.1272e+04],\n",
            "        [2.6000e+01, 1.0000e+00, 2.3088e+01, 0.0000e+00, 0.0000e+00, 3.0000e+00,\n",
            "         2.3023e+03],\n",
            "        [5.7000e+01, 0.0000e+00, 2.4675e+01, 0.0000e+00, 0.0000e+00, 0.0000e+00,\n",
            "         1.2029e+04],\n",
            "        [5.2000e+01, 1.0000e+00, 4.0809e+01, 2.0000e+00, 0.0000e+00, 1.0000e+00,\n",
            "         2.6467e+04],\n",
            "        [4.9000e+01, 1.0000e+00, 3.4299e+01, 0.0000e+00, 1.0000e+00, 3.0000e+00,\n",
            "         3.9728e+04],\n",
            "        [5.2000e+01, 1.0000e+00, 3.3522e+01, 1.0000e+00, 0.0000e+00, 3.0000e+00,\n",
            "         9.7245e+03],\n",
            "        [2.0000e+01, 0.0000e+00, 2.4886e+01, 0.0000e+00, 1.0000e+00, 1.0000e+00,\n",
            "         1.4712e+04],\n",
            "        [4.2000e+01, 1.0000e+00, 3.4693e+01, 0.0000e+00, 0.0000e+00, 1.0000e+00,\n",
            "         6.3588e+03],\n",
            "        [3.1000e+01, 1.0000e+00, 3.0686e+01, 2.0000e+00, 0.0000e+00, 0.0000e+00,\n",
            "         5.0313e+03],\n",
            "        [6.4000e+01, 1.0000e+00, 4.2075e+01, 0.0000e+00, 0.0000e+00, 1.0000e+00,\n",
            "         1.4211e+04],\n",
            "        [3.1000e+01, 1.0000e+00, 3.4271e+01, 0.0000e+00, 0.0000e+00, 0.0000e+00,\n",
            "         3.8578e+03],\n",
            "        [2.4000e+01, 1.0000e+00, 2.5974e+01, 0.0000e+00, 0.0000e+00, 3.0000e+00,\n",
            "         1.9696e+03],\n",
            "        [4.1000e+01, 1.0000e+00, 3.7962e+01, 2.0000e+00, 0.0000e+00, 1.0000e+00,\n",
            "         7.2617e+03],\n",
            "        [4.4000e+01, 1.0000e+00, 4.2247e+01, 1.0000e+00, 0.0000e+00, 2.0000e+00,\n",
            "         7.1527e+03],\n",
            "        [6.0000e+01, 0.0000e+00, 3.9966e+01, 0.0000e+00, 0.0000e+00, 0.0000e+00,\n",
            "         1.3229e+04],\n",
            "        [2.8000e+01, 1.0000e+00, 4.1181e+01, 1.0000e+00, 0.0000e+00, 3.0000e+00,\n",
            "         3.2772e+03],\n",
            "        [5.0000e+01, 0.0000e+00, 5.1160e+01, 1.0000e+00, 0.0000e+00, 2.0000e+00,\n",
            "         9.5496e+03],\n",
            "        [5.8000e+01, 1.0000e+00, 3.8173e+01, 0.0000e+00, 0.0000e+00, 1.0000e+00,\n",
            "         1.1744e+04],\n",
            "        [5.9000e+01, 1.0000e+00, 3.2967e+01, 2.0000e+00, 0.0000e+00, 2.0000e+00,\n",
            "         1.2926e+04],\n",
            "        [3.3000e+01, 1.0000e+00, 4.7131e+01, 1.0000e+00, 0.0000e+00, 2.0000e+00,\n",
            "         1.1327e+04],\n",
            "        [5.2000e+01, 0.0000e+00, 5.1893e+01, 5.0000e+00, 0.0000e+00, 2.0000e+00,\n",
            "         1.2593e+04],\n",
            "        [6.1000e+01, 1.0000e+00, 4.0071e+01, 3.0000e+00, 0.0000e+00, 3.0000e+00,\n",
            "         2.7941e+04],\n",
            "        [4.5000e+01, 0.0000e+00, 4.4394e+01, 3.0000e+00, 0.0000e+00, 0.0000e+00,\n",
            "         9.7047e+03],\n",
            "        [3.0000e+01, 1.0000e+00, 4.1958e+01, 2.0000e+00, 1.0000e+00, 3.0000e+00,\n",
            "         3.9241e+04],\n",
            "        [5.2000e+01, 1.0000e+00, 2.6995e+01, 3.0000e+00, 1.0000e+00, 0.0000e+00,\n",
            "         2.4870e+04],\n",
            "        [5.2000e+01, 0.0000e+00, 4.2602e+01, 2.0000e+00, 0.0000e+00, 0.0000e+00,\n",
            "         1.1397e+04],\n",
            "        [3.0000e+01, 0.0000e+00, 4.3346e+01, 3.0000e+00, 1.0000e+00, 2.0000e+00,\n",
            "         4.0932e+04],\n",
            "        [3.5000e+01, 1.0000e+00, 1.9825e+01, 1.0000e+00, 0.0000e+00, 1.0000e+00,\n",
            "         5.1165e+03],\n",
            "        [3.0000e+01, 0.0000e+00, 3.4299e+01, 3.0000e+00, 0.0000e+00, 3.0000e+00,\n",
            "         5.3257e+03],\n",
            "        [4.6000e+01, 0.0000e+00, 3.2079e+01, 2.0000e+00, 0.0000e+00, 3.0000e+00,\n",
            "         8.8233e+03],\n",
            "        [5.1000e+01, 0.0000e+00, 4.1880e+01, 1.0000e+00, 0.0000e+00, 2.0000e+00,\n",
            "         9.8776e+03],\n",
            "        [2.9000e+01, 0.0000e+00, 2.7306e+01, 2.0000e+00, 0.0000e+00, 3.0000e+00,\n",
            "         4.5295e+03],\n",
            "        [3.5000e+01, 1.0000e+00, 3.0081e+01, 1.0000e+00, 0.0000e+00, 3.0000e+00,\n",
            "         4.7463e+03],\n",
            "        [2.3000e+01, 0.0000e+00, 3.1624e+01, 1.0000e+00, 1.0000e+00, 2.0000e+00,\n",
            "         1.8328e+04],\n",
            "        [1.9000e+01, 1.0000e+00, 3.1524e+01, 1.0000e+00, 0.0000e+00, 3.0000e+00,\n",
            "         1.8425e+03],\n",
            "        [1.8000e+01, 0.0000e+00, 2.9210e+01, 0.0000e+00, 0.0000e+00, 0.0000e+00,\n",
            "         2.1982e+03],\n",
            "        [1.8000e+01, 0.0000e+00, 3.1319e+01, 0.0000e+00, 0.0000e+00, 0.0000e+00,\n",
            "         2.2008e+03],\n",
            "        [4.4000e+01, 1.0000e+00, 3.3006e+01, 2.0000e+00, 0.0000e+00, 0.0000e+00,\n",
            "         3.2109e+04],\n",
            "        [2.0000e+01, 1.0000e+00, 3.4060e+01, 0.0000e+00, 1.0000e+00, 0.0000e+00,\n",
            "         3.3476e+04],\n",
            "        [3.2000e+01, 1.0000e+00, 3.4188e+01, 3.0000e+00, 0.0000e+00, 3.0000e+00,\n",
            "         5.2535e+03]])\n",
            "targets: tensor([[11272.3311],\n",
            "        [ 2302.3000],\n",
            "        [12029.2871],\n",
            "        [26467.0977],\n",
            "        [39727.6133],\n",
            "        [ 9724.5303],\n",
            "        [14711.7441],\n",
            "        [ 6358.7764],\n",
            "        [ 5031.2695],\n",
            "        [14210.5361],\n",
            "        [ 3857.7593],\n",
            "        [ 1969.6140],\n",
            "        [ 7261.7412],\n",
            "        [ 7152.6714],\n",
            "        [13228.8467],\n",
            "        [ 3277.1609],\n",
            "        [ 9549.5654],\n",
            "        [11743.9346],\n",
            "        [12925.8857],\n",
            "        [11326.7148],\n",
            "        [12592.5342],\n",
            "        [27941.2871],\n",
            "        [ 9704.6680],\n",
            "        [39241.4414],\n",
            "        [24869.8359],\n",
            "        [11396.9004],\n",
            "        [40932.4297],\n",
            "        [ 5116.5005],\n",
            "        [ 5325.6509],\n",
            "        [ 8823.2793],\n",
            "        [ 9877.6074],\n",
            "        [ 4529.4771],\n",
            "        [ 4746.3442],\n",
            "        [18328.2383],\n",
            "        [ 1842.5190],\n",
            "        [ 2198.1899],\n",
            "        [ 2200.8308],\n",
            "        [32108.6621],\n",
            "        [33475.8164],\n",
            "        [ 5253.5239]])\n"
          ],
          "name": "stdout"
        }
      ]
    },
    {
      "cell_type": "markdown",
      "metadata": {
        "id": "9fiofZ_4NmNb"
      },
      "source": [
        "Let's save our work by committing to Jovian."
      ]
    },
    {
      "cell_type": "code",
      "metadata": {
        "colab": {
          "base_uri": "https://localhost:8080/",
          "height": 86
        },
        "id": "zcfY4EZRNmNb",
        "outputId": "068f1c34-939c-4731-87de-e02215d27a96"
      },
      "source": [
        "jovian.commit(project=project_name, environment=None)"
      ],
      "execution_count": null,
      "outputs": [
        {
          "output_type": "stream",
          "text": [
            "[jovian] Detected Colab notebook...\u001b[0m\n",
            "[jovian] Uploading colab notebook to Jovian...\u001b[0m\n",
            "[jovian] Committed successfully! https://jovian.ai/rj-0605/02-insurance-linear-regression\u001b[0m\n"
          ],
          "name": "stdout"
        },
        {
          "output_type": "execute_result",
          "data": {
            "application/vnd.google.colaboratory.intrinsic+json": {
              "type": "string"
            },
            "text/plain": [
              "'https://jovian.ai/rj-0605/02-insurance-linear-regression'"
            ]
          },
          "metadata": {
            "tags": []
          },
          "execution_count": 69
        }
      ]
    },
    {
      "cell_type": "markdown",
      "metadata": {
        "id": "KAqSVMQUNmNb"
      },
      "source": [
        "## Step 3: Create a Linear Regression Model\n",
        "\n",
        "Our model itself is a fairly straightforward linear regression (we'll build more complex models in the next assignment). \n"
      ]
    },
    {
      "cell_type": "code",
      "metadata": {
        "id": "3IvKVip3NmNc"
      },
      "source": [
        "input_cols = list(dataframe.columns)\n",
        "input_size = len(input_cols)\n",
        "output_cols = [dataframe.columns[-1]]\n",
        "output_size = len(output_cols)"
      ],
      "execution_count": null,
      "outputs": []
    },
    {
      "cell_type": "markdown",
      "metadata": {
        "id": "wBdropqlNmNc"
      },
      "source": [
        "**Q: Complete the class definition below by filling out the constructor (`__init__`), `forward`, `training_step` and `validation_step` methods.**\n",
        "\n",
        "Hint: Think carefully about picking a good loss fuction (it's not cross entropy). Maybe try 2-3 of them and see which one works best. See https://pytorch.org/docs/stable/nn.functional.html#loss-functions"
      ]
    },
    {
      "cell_type": "code",
      "metadata": {
        "id": "E-_Xka9zNmNc"
      },
      "source": [
        "class InsuranceModel(nn.Module):\n",
        "    def __init__(self):\n",
        "        super().__init__()\n",
        "        self.linear = nn.Linear(input_size, output_size)                  # fill this (hint: use input_size & output_size defined above)\n",
        "        \n",
        "    def forward(self, xb):\n",
        "        out = self.linear(xb)                          # fill this\n",
        "        return out\n",
        "    \n",
        "    def training_step(self, batch):\n",
        "        inputs, targets = batch \n",
        "        # Generate predictions\n",
        "        out = self(inputs)          \n",
        "        # Calcuate loss\n",
        "        loss = F.l1_loss(out, targets)                          # fill this\n",
        "        return loss\n",
        "    \n",
        "    def validation_step(self, batch):\n",
        "        inputs, targets = batch\n",
        "        # Generate predictions\n",
        "        out = self(inputs)\n",
        "        # Calculate loss\n",
        "        loss = F.l1_loss(out, targets)                           # fill this    \n",
        "        return {'val_loss': loss.detach()}\n",
        "        \n",
        "    def validation_epoch_end(self, outputs):\n",
        "        batch_losses = [x['val_loss'] for x in outputs]\n",
        "        epoch_loss = torch.stack(batch_losses).mean()   # Combine losses\n",
        "        return {'val_loss': epoch_loss.item()}\n",
        "    \n",
        "    def epoch_end(self, epoch, result, num_epochs):\n",
        "        # Print result every 20th epoch\n",
        "        if (epoch+1) % 20 == 0 or epoch == num_epochs-1:\n",
        "            print(\"Epoch [{}], val_loss: {:.4f}\".format(epoch+1, result['val_loss']))"
      ],
      "execution_count": null,
      "outputs": []
    },
    {
      "cell_type": "markdown",
      "metadata": {
        "id": "gUKQdYfeNmNd"
      },
      "source": [
        "Let us create a model using the `InsuranceModel` class. You may need to come back later and re-run the next cell to reinitialize the model, in case the loss becomes `nan` or `infinity`."
      ]
    },
    {
      "cell_type": "code",
      "metadata": {
        "id": "VXkQO-VSNmNe"
      },
      "source": [
        "model = InsuranceModel()"
      ],
      "execution_count": null,
      "outputs": []
    },
    {
      "cell_type": "markdown",
      "metadata": {
        "id": "3Cg-hfsRNmNe"
      },
      "source": [
        "Let's check out the weights and biases of the model using `model.parameters`."
      ]
    },
    {
      "cell_type": "code",
      "metadata": {
        "colab": {
          "base_uri": "https://localhost:8080/"
        },
        "id": "B2CMNcvkNmNe",
        "outputId": "addba203-b030-45e8-84eb-c46b9f454160"
      },
      "source": [
        "list(model.parameters())"
      ],
      "execution_count": null,
      "outputs": [
        {
          "output_type": "execute_result",
          "data": {
            "text/plain": [
              "[Parameter containing:\n",
              " tensor([[-0.3730,  0.3410,  0.1740, -0.0701,  0.0403,  0.3120, -0.3574]],\n",
              "        requires_grad=True), Parameter containing:\n",
              " tensor([-0.1187], requires_grad=True)]"
            ]
          },
          "metadata": {
            "tags": []
          },
          "execution_count": 77
        }
      ]
    },
    {
      "cell_type": "markdown",
      "metadata": {
        "id": "HQqOcYPyNmNe"
      },
      "source": [
        "One final commit before we train the model."
      ]
    },
    {
      "cell_type": "code",
      "metadata": {
        "colab": {
          "base_uri": "https://localhost:8080/",
          "height": 86
        },
        "id": "_5UJ_9ISNmNf",
        "outputId": "d14e163b-7ead-4a6e-b4a3-6236e5618e8b"
      },
      "source": [
        "jovian.commit(project=project_name, environment=None)"
      ],
      "execution_count": null,
      "outputs": [
        {
          "output_type": "stream",
          "text": [
            "[jovian] Detected Colab notebook...\u001b[0m\n",
            "[jovian] Uploading colab notebook to Jovian...\u001b[0m\n",
            "[jovian] Committed successfully! https://jovian.ai/rj-0605/02-insurance-linear-regression\u001b[0m\n"
          ],
          "name": "stdout"
        },
        {
          "output_type": "execute_result",
          "data": {
            "application/vnd.google.colaboratory.intrinsic+json": {
              "type": "string"
            },
            "text/plain": [
              "'https://jovian.ai/rj-0605/02-insurance-linear-regression'"
            ]
          },
          "metadata": {
            "tags": []
          },
          "execution_count": 78
        }
      ]
    },
    {
      "cell_type": "markdown",
      "metadata": {
        "id": "GHdl2JwWNmNf"
      },
      "source": [
        "## Step 4: Train the model to fit the data\n",
        "\n",
        "To train our model, we'll use the same `fit` function explained in the lecture. That's the benefit of defining a generic training loop - you can use it for any problem."
      ]
    },
    {
      "cell_type": "code",
      "metadata": {
        "id": "dv1_DOjjNmNf"
      },
      "source": [
        "def evaluate(model, val_loader):\n",
        "    outputs = [model.validation_step(batch) for batch in val_loader]\n",
        "    return model.validation_epoch_end(outputs)\n",
        "\n",
        "def fit(epochs, lr, model, train_loader, val_loader, opt_func=torch.optim.SGD):\n",
        "    history = []\n",
        "    optimizer = opt_func(model.parameters(), lr)\n",
        "    for epoch in range(epochs):\n",
        "        # Training Phase \n",
        "        for batch in train_loader:\n",
        "            loss = model.training_step(batch)\n",
        "            loss.backward()\n",
        "            optimizer.step()\n",
        "            optimizer.zero_grad()\n",
        "        # Validation phase\n",
        "        result = evaluate(model, val_loader)\n",
        "        model.epoch_end(epoch, result, epochs)\n",
        "        history.append(result)\n",
        "    return history"
      ],
      "execution_count": null,
      "outputs": []
    },
    {
      "cell_type": "markdown",
      "metadata": {
        "id": "AIB9M9qPNmNf"
      },
      "source": [
        "**Q: Use the `evaluate` function to calculate the loss on the validation set before training.**"
      ]
    },
    {
      "cell_type": "code",
      "metadata": {
        "colab": {
          "base_uri": "https://localhost:8080/"
        },
        "id": "jq2-367bNmNg",
        "outputId": "cd910aa9-e23e-4776-ca1e-c8defc2c4543"
      },
      "source": [
        "result = evaluate(model,val_loader) # Use the the evaluate function\n",
        "print(result)"
      ],
      "execution_count": null,
      "outputs": [
        {
          "output_type": "stream",
          "text": [
            "{'val_loss': 17849.09765625}\n"
          ],
          "name": "stdout"
        }
      ]
    },
    {
      "cell_type": "markdown",
      "metadata": {
        "id": "0YQmTgooNmNg"
      },
      "source": [
        "\n",
        "We are now ready to train the model. You may need to run the training loop many times, for different number of epochs and with different learning rates, to get a good result. Also, if your loss becomes too large (or `nan`), you may have to re-initialize the model by running the cell `model = InsuranceModel()`. Experiment with this for a while, and try to get to as low a loss as possible."
      ]
    },
    {
      "cell_type": "markdown",
      "metadata": {
        "id": "eZCN6H-6NmNg"
      },
      "source": [
        "**Q: Train the model 4-5 times with different learning rates & for different number of epochs.**\n",
        "\n",
        "Hint: Vary learning rates by orders of 10 (e.g. `1e-2`, `1e-3`, `1e-4`, `1e-5`, `1e-6`) to figure out what works."
      ]
    },
    {
      "cell_type": "code",
      "metadata": {
        "colab": {
          "base_uri": "https://localhost:8080/"
        },
        "id": "gslssg6VNmNg",
        "outputId": "b14ef0b9-3aa7-441f-8114-a139736acf7e"
      },
      "source": [
        "epochs = 1000\n",
        "lr = 5e-1\n",
        "history1 = fit(epochs, lr, model, train_loader, val_loader)"
      ],
      "execution_count": null,
      "outputs": [
        {
          "output_type": "stream",
          "text": [
            "Epoch [20], val_loss: 45656020.0000\n",
            "Epoch [40], val_loss: 45488092.0000\n",
            "Epoch [60], val_loss: 29734336.0000\n",
            "Epoch [80], val_loss: 137864576.0000\n",
            "Epoch [100], val_loss: 4446367.0000\n",
            "Epoch [120], val_loss: 76399128.0000\n",
            "Epoch [140], val_loss: 46964244.0000\n",
            "Epoch [160], val_loss: 71846864.0000\n",
            "Epoch [180], val_loss: 14055224.0000\n",
            "Epoch [200], val_loss: 26277200.0000\n",
            "Epoch [220], val_loss: 10832087.0000\n",
            "Epoch [240], val_loss: 26865316.0000\n",
            "Epoch [260], val_loss: 27853492.0000\n",
            "Epoch [280], val_loss: 54933612.0000\n",
            "Epoch [300], val_loss: 95637184.0000\n",
            "Epoch [320], val_loss: 84387344.0000\n",
            "Epoch [340], val_loss: 34548008.0000\n",
            "Epoch [360], val_loss: 126911152.0000\n",
            "Epoch [380], val_loss: 79225136.0000\n",
            "Epoch [400], val_loss: 275516736.0000\n",
            "Epoch [420], val_loss: 51773948.0000\n",
            "Epoch [440], val_loss: 61186088.0000\n",
            "Epoch [460], val_loss: 10531352.0000\n",
            "Epoch [480], val_loss: 25828150.0000\n",
            "Epoch [500], val_loss: 90734.3047\n",
            "Epoch [520], val_loss: 11227387.0000\n",
            "Epoch [540], val_loss: 37546544.0000\n",
            "Epoch [560], val_loss: 51212368.0000\n",
            "Epoch [580], val_loss: 204968384.0000\n",
            "Epoch [600], val_loss: 234032304.0000\n",
            "Epoch [620], val_loss: 31636364.0000\n",
            "Epoch [640], val_loss: 19701412.0000\n",
            "Epoch [660], val_loss: 67787064.0000\n",
            "Epoch [680], val_loss: 3501004.7500\n",
            "Epoch [700], val_loss: 57345112.0000\n",
            "Epoch [720], val_loss: 26431264.0000\n",
            "Epoch [740], val_loss: 98720360.0000\n",
            "Epoch [760], val_loss: 66411272.0000\n",
            "Epoch [780], val_loss: 175310.6406\n",
            "Epoch [800], val_loss: 11430018.0000\n",
            "Epoch [820], val_loss: 23760332.0000\n",
            "Epoch [840], val_loss: 57602240.0000\n",
            "Epoch [860], val_loss: 40504036.0000\n",
            "Epoch [880], val_loss: 30773856.0000\n",
            "Epoch [900], val_loss: 40026664.0000\n",
            "Epoch [920], val_loss: 50788812.0000\n",
            "Epoch [940], val_loss: 64508608.0000\n",
            "Epoch [960], val_loss: 53060900.0000\n",
            "Epoch [980], val_loss: 27657274.0000\n",
            "Epoch [1000], val_loss: 15792029.0000\n"
          ],
          "name": "stdout"
        }
      ]
    },
    {
      "cell_type": "code",
      "metadata": {
        "colab": {
          "base_uri": "https://localhost:8080/"
        },
        "id": "H66pALHONmNh",
        "outputId": "c7399e5a-0450-4d42-ec10-33abc0adf16c"
      },
      "source": [
        "epochs = 1000\n",
        "lr = 5e-1\n",
        "history2 = fit(epochs, lr, model, train_loader, val_loader)"
      ],
      "execution_count": null,
      "outputs": [
        {
          "output_type": "stream",
          "text": [
            "Epoch [20], val_loss: 7907981.5000\n",
            "Epoch [40], val_loss: 12956739.0000\n",
            "Epoch [60], val_loss: 10660406.0000\n",
            "Epoch [80], val_loss: 49142828.0000\n",
            "Epoch [100], val_loss: 151745904.0000\n",
            "Epoch [120], val_loss: 11272614.0000\n",
            "Epoch [140], val_loss: 192234288.0000\n",
            "Epoch [160], val_loss: 15181627.0000\n",
            "Epoch [180], val_loss: 46419132.0000\n",
            "Epoch [200], val_loss: 107618512.0000\n",
            "Epoch [220], val_loss: 80995824.0000\n",
            "Epoch [240], val_loss: 17747010.0000\n",
            "Epoch [260], val_loss: 130822864.0000\n",
            "Epoch [280], val_loss: 66814420.0000\n",
            "Epoch [300], val_loss: 10799113.0000\n",
            "Epoch [320], val_loss: 24311448.0000\n",
            "Epoch [340], val_loss: 24428956.0000\n",
            "Epoch [360], val_loss: 29364906.0000\n",
            "Epoch [380], val_loss: 187784416.0000\n",
            "Epoch [400], val_loss: 22854060.0000\n",
            "Epoch [420], val_loss: 89389240.0000\n",
            "Epoch [440], val_loss: 6818708.0000\n",
            "Epoch [460], val_loss: 12377026.0000\n",
            "Epoch [480], val_loss: 29058736.0000\n",
            "Epoch [500], val_loss: 33445332.0000\n",
            "Epoch [520], val_loss: 51537548.0000\n",
            "Epoch [540], val_loss: 13815165.0000\n",
            "Epoch [560], val_loss: 49797816.0000\n",
            "Epoch [580], val_loss: 66402944.0000\n",
            "Epoch [600], val_loss: 75834256.0000\n",
            "Epoch [620], val_loss: 3968935.5000\n",
            "Epoch [640], val_loss: 47224584.0000\n",
            "Epoch [660], val_loss: 37647956.0000\n",
            "Epoch [680], val_loss: 31081530.0000\n",
            "Epoch [700], val_loss: 1253700.8750\n",
            "Epoch [720], val_loss: 30770950.0000\n",
            "Epoch [740], val_loss: 44105912.0000\n",
            "Epoch [760], val_loss: 14306411.0000\n",
            "Epoch [780], val_loss: 317927.5000\n",
            "Epoch [800], val_loss: 15404326.0000\n",
            "Epoch [820], val_loss: 39875624.0000\n",
            "Epoch [840], val_loss: 64475488.0000\n",
            "Epoch [860], val_loss: 3840143.2500\n",
            "Epoch [880], val_loss: 177668256.0000\n",
            "Epoch [900], val_loss: 12567467.0000\n",
            "Epoch [920], val_loss: 37574984.0000\n",
            "Epoch [940], val_loss: 43548888.0000\n",
            "Epoch [960], val_loss: 45816868.0000\n",
            "Epoch [980], val_loss: 5412033.0000\n",
            "Epoch [1000], val_loss: 220304032.0000\n"
          ],
          "name": "stdout"
        }
      ]
    },
    {
      "cell_type": "code",
      "metadata": {
        "colab": {
          "base_uri": "https://localhost:8080/"
        },
        "id": "tGtdn7xSNmNh",
        "outputId": "85e8cc89-b207-41cf-db3c-05e72956f3eb"
      },
      "source": [
        "epochs = 1000\n",
        "lr = 5e-1\n",
        "history3 = fit(epochs, lr, model, train_loader, val_loader)"
      ],
      "execution_count": null,
      "outputs": [
        {
          "output_type": "stream",
          "text": [
            "Epoch [20], val_loss: 40098992.0000\n",
            "Epoch [40], val_loss: 29842746.0000\n",
            "Epoch [60], val_loss: 3563954.0000\n",
            "Epoch [80], val_loss: 111037840.0000\n",
            "Epoch [100], val_loss: 90446848.0000\n",
            "Epoch [120], val_loss: 31640852.0000\n",
            "Epoch [140], val_loss: 12484174.0000\n",
            "Epoch [160], val_loss: 7175265.0000\n",
            "Epoch [180], val_loss: 251132112.0000\n",
            "Epoch [200], val_loss: 213220992.0000\n",
            "Epoch [220], val_loss: 101490408.0000\n",
            "Epoch [240], val_loss: 38854988.0000\n",
            "Epoch [260], val_loss: 4008394.0000\n",
            "Epoch [280], val_loss: 113754.4219\n",
            "Epoch [300], val_loss: 11165318.0000\n",
            "Epoch [320], val_loss: 167046720.0000\n",
            "Epoch [340], val_loss: 122330136.0000\n",
            "Epoch [360], val_loss: 2773106.5000\n",
            "Epoch [380], val_loss: 13208811.0000\n",
            "Epoch [400], val_loss: 32687872.0000\n",
            "Epoch [420], val_loss: 33421452.0000\n",
            "Epoch [440], val_loss: 47482264.0000\n",
            "Epoch [460], val_loss: 31932502.0000\n",
            "Epoch [480], val_loss: 101817032.0000\n",
            "Epoch [500], val_loss: 16585859.0000\n",
            "Epoch [520], val_loss: 25762496.0000\n",
            "Epoch [540], val_loss: 118758040.0000\n",
            "Epoch [560], val_loss: 6501395.0000\n",
            "Epoch [580], val_loss: 236355376.0000\n",
            "Epoch [600], val_loss: 11280394.0000\n",
            "Epoch [620], val_loss: 168315792.0000\n",
            "Epoch [640], val_loss: 104520416.0000\n",
            "Epoch [660], val_loss: 249459504.0000\n",
            "Epoch [680], val_loss: 27368524.0000\n",
            "Epoch [700], val_loss: 99742056.0000\n",
            "Epoch [720], val_loss: 12928168.0000\n",
            "Epoch [740], val_loss: 1122941.2500\n",
            "Epoch [760], val_loss: 47993768.0000\n",
            "Epoch [780], val_loss: 45031316.0000\n",
            "Epoch [800], val_loss: 1934247.3750\n",
            "Epoch [820], val_loss: 51562784.0000\n",
            "Epoch [840], val_loss: 24074516.0000\n",
            "Epoch [860], val_loss: 74922480.0000\n",
            "Epoch [880], val_loss: 28003386.0000\n",
            "Epoch [900], val_loss: 37480384.0000\n",
            "Epoch [920], val_loss: 35300396.0000\n",
            "Epoch [940], val_loss: 1038062.5000\n",
            "Epoch [960], val_loss: 18797062.0000\n",
            "Epoch [980], val_loss: 29584758.0000\n",
            "Epoch [1000], val_loss: 201673568.0000\n"
          ],
          "name": "stdout"
        }
      ]
    },
    {
      "cell_type": "code",
      "metadata": {
        "colab": {
          "base_uri": "https://localhost:8080/"
        },
        "id": "UqCalWdONmNh",
        "outputId": "da8a259a-c143-4c0d-efc1-0dba10b92a26"
      },
      "source": [
        "epochs = 1000\n",
        "lr = 2e-1\n",
        "history4 = fit(epochs, lr, model, train_loader, val_loader)"
      ],
      "execution_count": null,
      "outputs": [
        {
          "output_type": "stream",
          "text": [
            "Epoch [20], val_loss: 14228219.0000\n",
            "Epoch [40], val_loss: 8710540.0000\n",
            "Epoch [60], val_loss: 5620551.5000\n",
            "Epoch [80], val_loss: 3636276.5000\n",
            "Epoch [100], val_loss: 60038936.0000\n",
            "Epoch [120], val_loss: 5903891.0000\n",
            "Epoch [140], val_loss: 812138.5000\n",
            "Epoch [160], val_loss: 7682377.0000\n",
            "Epoch [180], val_loss: 18277488.0000\n",
            "Epoch [200], val_loss: 13519034.0000\n",
            "Epoch [220], val_loss: 79182032.0000\n",
            "Epoch [240], val_loss: 51650232.0000\n",
            "Epoch [260], val_loss: 10481534.0000\n",
            "Epoch [280], val_loss: 16124598.0000\n",
            "Epoch [300], val_loss: 23747140.0000\n",
            "Epoch [320], val_loss: 20028684.0000\n",
            "Epoch [340], val_loss: 6430731.5000\n",
            "Epoch [360], val_loss: 29501402.0000\n",
            "Epoch [380], val_loss: 35426280.0000\n",
            "Epoch [400], val_loss: 10316898.0000\n",
            "Epoch [420], val_loss: 32136806.0000\n",
            "Epoch [440], val_loss: 4324471.0000\n",
            "Epoch [460], val_loss: 13800758.0000\n",
            "Epoch [480], val_loss: 15252112.0000\n",
            "Epoch [500], val_loss: 7331545.5000\n",
            "Epoch [520], val_loss: 46924824.0000\n",
            "Epoch [540], val_loss: 35380048.0000\n",
            "Epoch [560], val_loss: 338548.5312\n",
            "Epoch [580], val_loss: 4138549.2500\n",
            "Epoch [600], val_loss: 36186532.0000\n",
            "Epoch [620], val_loss: 21426540.0000\n",
            "Epoch [640], val_loss: 16989424.0000\n",
            "Epoch [660], val_loss: 35242052.0000\n",
            "Epoch [680], val_loss: 4191078.7500\n",
            "Epoch [700], val_loss: 3026848.0000\n",
            "Epoch [720], val_loss: 1702315.2500\n",
            "Epoch [740], val_loss: 28053066.0000\n",
            "Epoch [760], val_loss: 8274941.0000\n",
            "Epoch [780], val_loss: 20589500.0000\n",
            "Epoch [800], val_loss: 10349918.0000\n",
            "Epoch [820], val_loss: 6794866.5000\n",
            "Epoch [840], val_loss: 2476239.0000\n",
            "Epoch [860], val_loss: 5562707.0000\n",
            "Epoch [880], val_loss: 13432160.0000\n",
            "Epoch [900], val_loss: 2449604.5000\n",
            "Epoch [920], val_loss: 18233716.0000\n",
            "Epoch [940], val_loss: 19116388.0000\n",
            "Epoch [960], val_loss: 13302458.0000\n",
            "Epoch [980], val_loss: 9666123.0000\n",
            "Epoch [1000], val_loss: 2010157.0000\n"
          ],
          "name": "stdout"
        }
      ]
    },
    {
      "cell_type": "code",
      "metadata": {
        "colab": {
          "base_uri": "https://localhost:8080/"
        },
        "id": "aPEPY4rfNmNh",
        "outputId": "146c6fae-d070-4c3d-b276-09b3545f6f44"
      },
      "source": [
        "epochs = 1000\n",
        "lr = 5e-1\n",
        "history5 = fit(epochs, lr, model, train_loader, val_loader)"
      ],
      "execution_count": null,
      "outputs": [
        {
          "output_type": "stream",
          "text": [
            "Epoch [20], val_loss: 66433420.0000\n",
            "Epoch [40], val_loss: 26010332.0000\n",
            "Epoch [60], val_loss: 21470486.0000\n",
            "Epoch [80], val_loss: 266977696.0000\n",
            "Epoch [100], val_loss: 42287320.0000\n",
            "Epoch [120], val_loss: 154942112.0000\n",
            "Epoch [140], val_loss: 4474638.0000\n",
            "Epoch [160], val_loss: 210436128.0000\n",
            "Epoch [180], val_loss: 157748160.0000\n",
            "Epoch [200], val_loss: 52957032.0000\n",
            "Epoch [220], val_loss: 41701116.0000\n",
            "Epoch [240], val_loss: 18383558.0000\n",
            "Epoch [260], val_loss: 69354288.0000\n",
            "Epoch [280], val_loss: 13646806.0000\n",
            "Epoch [300], val_loss: 1062194.2500\n",
            "Epoch [320], val_loss: 48147476.0000\n",
            "Epoch [340], val_loss: 38893560.0000\n",
            "Epoch [360], val_loss: 16867500.0000\n",
            "Epoch [380], val_loss: 69142992.0000\n",
            "Epoch [400], val_loss: 4442604.0000\n",
            "Epoch [420], val_loss: 24349668.0000\n",
            "Epoch [440], val_loss: 7823104.0000\n",
            "Epoch [460], val_loss: 7910767.0000\n",
            "Epoch [480], val_loss: 15661163.0000\n",
            "Epoch [500], val_loss: 65850380.0000\n",
            "Epoch [520], val_loss: 7760939.0000\n",
            "Epoch [540], val_loss: 21810908.0000\n",
            "Epoch [560], val_loss: 58155800.0000\n",
            "Epoch [580], val_loss: 65815320.0000\n",
            "Epoch [600], val_loss: 46961732.0000\n",
            "Epoch [620], val_loss: 34264564.0000\n",
            "Epoch [640], val_loss: 16228274.0000\n",
            "Epoch [660], val_loss: 114945384.0000\n",
            "Epoch [680], val_loss: 87910384.0000\n",
            "Epoch [700], val_loss: 48474292.0000\n",
            "Epoch [720], val_loss: 9779942.0000\n",
            "Epoch [740], val_loss: 56626252.0000\n",
            "Epoch [760], val_loss: 3736163.2500\n",
            "Epoch [780], val_loss: 7389677.0000\n",
            "Epoch [800], val_loss: 129482648.0000\n",
            "Epoch [820], val_loss: 10514995.0000\n",
            "Epoch [840], val_loss: 12119131.0000\n",
            "Epoch [860], val_loss: 153179776.0000\n",
            "Epoch [880], val_loss: 20975256.0000\n",
            "Epoch [900], val_loss: 21803892.0000\n",
            "Epoch [920], val_loss: 5935530.5000\n",
            "Epoch [940], val_loss: 174927136.0000\n",
            "Epoch [960], val_loss: 45387988.0000\n",
            "Epoch [980], val_loss: 4316688.5000\n",
            "Epoch [1000], val_loss: 50164524.0000\n"
          ],
          "name": "stdout"
        }
      ]
    },
    {
      "cell_type": "code",
      "metadata": {
        "colab": {
          "base_uri": "https://localhost:8080/"
        },
        "id": "M_6AIYjQh28E",
        "outputId": "1e4d6ec2-7560-49f1-c408-252f2d36c19c"
      },
      "source": [
        "epochs = 1000\n",
        "lr = 5e-1\n",
        "history6 = fit(epochs, lr, model, train_loader, val_loader)"
      ],
      "execution_count": null,
      "outputs": [
        {
          "output_type": "stream",
          "text": [
            "Epoch [20], val_loss: 17339588.0000\n",
            "Epoch [40], val_loss: 33768204.0000\n",
            "Epoch [60], val_loss: 95075688.0000\n",
            "Epoch [80], val_loss: 176439120.0000\n",
            "Epoch [100], val_loss: 11270648.0000\n",
            "Epoch [120], val_loss: 207101968.0000\n",
            "Epoch [140], val_loss: 160456784.0000\n",
            "Epoch [160], val_loss: 21428956.0000\n",
            "Epoch [180], val_loss: 24659460.0000\n",
            "Epoch [200], val_loss: 103722608.0000\n",
            "Epoch [220], val_loss: 8179373.0000\n",
            "Epoch [240], val_loss: 214049408.0000\n",
            "Epoch [260], val_loss: 29476986.0000\n",
            "Epoch [280], val_loss: 109116432.0000\n",
            "Epoch [300], val_loss: 4679223.0000\n",
            "Epoch [320], val_loss: 17323926.0000\n",
            "Epoch [340], val_loss: 50371664.0000\n",
            "Epoch [360], val_loss: 20976752.0000\n",
            "Epoch [380], val_loss: 11847299.0000\n",
            "Epoch [400], val_loss: 232682848.0000\n",
            "Epoch [420], val_loss: 4218789.0000\n",
            "Epoch [440], val_loss: 121965800.0000\n",
            "Epoch [460], val_loss: 62377832.0000\n",
            "Epoch [480], val_loss: 52781120.0000\n",
            "Epoch [500], val_loss: 52624760.0000\n",
            "Epoch [520], val_loss: 237168.7500\n",
            "Epoch [540], val_loss: 88304688.0000\n",
            "Epoch [560], val_loss: 14161402.0000\n",
            "Epoch [580], val_loss: 47621784.0000\n",
            "Epoch [600], val_loss: 36338584.0000\n",
            "Epoch [620], val_loss: 90058840.0000\n",
            "Epoch [640], val_loss: 94679344.0000\n",
            "Epoch [660], val_loss: 61619272.0000\n",
            "Epoch [680], val_loss: 41810600.0000\n",
            "Epoch [700], val_loss: 236622304.0000\n",
            "Epoch [720], val_loss: 74957632.0000\n",
            "Epoch [740], val_loss: 1301686.0000\n",
            "Epoch [760], val_loss: 43096616.0000\n",
            "Epoch [780], val_loss: 19315656.0000\n",
            "Epoch [800], val_loss: 55517736.0000\n",
            "Epoch [820], val_loss: 1071934.2500\n",
            "Epoch [840], val_loss: 103940288.0000\n",
            "Epoch [860], val_loss: 10314651.0000\n",
            "Epoch [880], val_loss: 651956.1250\n",
            "Epoch [900], val_loss: 53724856.0000\n",
            "Epoch [920], val_loss: 152569376.0000\n",
            "Epoch [940], val_loss: 7399412.0000\n",
            "Epoch [960], val_loss: 35651560.0000\n",
            "Epoch [980], val_loss: 259454032.0000\n",
            "Epoch [1000], val_loss: 15977768.0000\n"
          ],
          "name": "stdout"
        }
      ]
    },
    {
      "cell_type": "markdown",
      "metadata": {
        "id": "a5ZbmWElNmNh"
      },
      "source": [
        "**Q: What is the final validation loss of your model?**"
      ]
    },
    {
      "cell_type": "code",
      "metadata": {
        "id": "FAgmGgqcNmNi"
      },
      "source": [
        "val_loss = 15977768"
      ],
      "execution_count": null,
      "outputs": []
    },
    {
      "cell_type": "markdown",
      "metadata": {
        "id": "0Z8meeXkNmNi"
      },
      "source": [
        "Let's log the final validation loss to Jovian and commit the notebook"
      ]
    },
    {
      "cell_type": "code",
      "metadata": {
        "colab": {
          "base_uri": "https://localhost:8080/"
        },
        "id": "dIovdh6FNmNi",
        "outputId": "5a0f9208-0973-4a95-e174-41e5d8441db5"
      },
      "source": [
        "jovian.log_metrics(val_loss=val_loss)"
      ],
      "execution_count": null,
      "outputs": [
        {
          "output_type": "stream",
          "text": [
            "[jovian] Metrics logged.\u001b[0m\n"
          ],
          "name": "stdout"
        }
      ]
    },
    {
      "cell_type": "code",
      "metadata": {
        "colab": {
          "base_uri": "https://localhost:8080/",
          "height": 103
        },
        "id": "pV2WrnYDNmNi",
        "outputId": "17e7b28f-af95-46e2-b710-44e377ee10a1"
      },
      "source": [
        "jovian.commit(project=project_name, environment=None)"
      ],
      "execution_count": null,
      "outputs": [
        {
          "output_type": "stream",
          "text": [
            "[jovian] Detected Colab notebook...\u001b[0m\n",
            "[jovian] Uploading colab notebook to Jovian...\u001b[0m\n",
            "[jovian] Attaching records (metrics, hyperparameters, dataset etc.)\u001b[0m\n",
            "[jovian] Committed successfully! https://jovian.ai/rj-0605/02-insurance-linear-regression\u001b[0m\n"
          ],
          "name": "stdout"
        },
        {
          "output_type": "execute_result",
          "data": {
            "application/vnd.google.colaboratory.intrinsic+json": {
              "type": "string"
            },
            "text/plain": [
              "'https://jovian.ai/rj-0605/02-insurance-linear-regression'"
            ]
          },
          "metadata": {
            "tags": []
          },
          "execution_count": 89
        }
      ]
    },
    {
      "cell_type": "markdown",
      "metadata": {
        "id": "aERCEXxsNmNj"
      },
      "source": [
        "Now scroll back up, re-initialize the model, and try different set of values for batch size, number of epochs, learning rate etc. Commit each experiment and use the \"Compare\" and \"View Diff\" options on Jovian to compare the different results."
      ]
    },
    {
      "cell_type": "markdown",
      "metadata": {
        "id": "DinpSDFgNmNj"
      },
      "source": [
        "## Step 5: Make predictions using the trained model\n",
        "\n",
        "**Q: Complete the following function definition to make predictions on a single input**"
      ]
    },
    {
      "cell_type": "code",
      "metadata": {
        "id": "IzGj1VwlNmNj"
      },
      "source": [
        "def predict_single(input, target, model):\n",
        "    inputs = input.unsqueeze(0)\n",
        "    predictions = model(inputs)                # fill this\n",
        "    prediction = predictions[0].detach()\n",
        "    print(\"Input:\", input)\n",
        "    print(\"Target:\", target)\n",
        "    print(\"Prediction:\", prediction)\n"
      ],
      "execution_count": null,
      "outputs": []
    },
    {
      "cell_type": "code",
      "metadata": {
        "colab": {
          "base_uri": "https://localhost:8080/"
        },
        "id": "nmejasO8NmNj",
        "outputId": "a566bac5-c449-41f5-f848-7d7dc79695ae"
      },
      "source": [
        "input, target = val_ds[0]\n",
        "predict_single(input, target, model)"
      ],
      "execution_count": null,
      "outputs": [
        {
          "output_type": "stream",
          "text": [
            "Input: tensor([4.9000e+01, 0.0000e+00, 3.8595e+01, 1.0000e+00, 0.0000e+00, 1.0000e+00,\n",
            "        9.5839e+03])\n",
            "Target: tensor([9583.8936])\n",
            "Prediction: tensor([11650158.])\n"
          ],
          "name": "stdout"
        }
      ]
    },
    {
      "cell_type": "code",
      "metadata": {
        "colab": {
          "base_uri": "https://localhost:8080/"
        },
        "id": "R-UhztEcNmNj",
        "outputId": "e420036d-9f5a-48d0-e6af-446a57d35dca"
      },
      "source": [
        "input, target = val_ds[10]\n",
        "predict_single(input, target, model)"
      ],
      "execution_count": null,
      "outputs": [
        {
          "output_type": "stream",
          "text": [
            "Input: tensor([5.6000e+01, 1.0000e+00, 3.7363e+01, 4.0000e+00, 0.0000e+00, 2.0000e+00,\n",
            "        1.2949e+04])\n",
            "Target: tensor([12949.1553])\n",
            "Prediction: tensor([15742727.])\n"
          ],
          "name": "stdout"
        }
      ]
    },
    {
      "cell_type": "code",
      "metadata": {
        "colab": {
          "base_uri": "https://localhost:8080/"
        },
        "id": "eKpUeZ2zNmNk",
        "outputId": "b3ae409e-4f86-4056-fdab-521888ca32b6"
      },
      "source": [
        "input, target = val_ds[23]\n",
        "predict_single(input, target, model)"
      ],
      "execution_count": null,
      "outputs": [
        {
          "output_type": "stream",
          "text": [
            "Input: tensor([5.7000e+01, 0.0000e+00, 3.8067e+01, 2.0000e+00, 0.0000e+00, 0.0000e+00,\n",
            "        1.3224e+04])\n",
            "Target: tensor([13224.0566])\n",
            "Prediction: tensor([16077072.])\n"
          ],
          "name": "stdout"
        }
      ]
    },
    {
      "cell_type": "markdown",
      "metadata": {
        "id": "xFcVcZc5NmNk"
      },
      "source": [
        "Are you happy with your model's predictions? Try to improve them further."
      ]
    },
    {
      "cell_type": "markdown",
      "metadata": {
        "id": "Nohv0rBlNmNk"
      },
      "source": [
        "## (Optional) Step 6: Try another dataset & blog about it\n",
        "\n",
        "While this last step is optional for the submission of your assignment, we highly recommend that you do it. Try to replicate this notebook for a different linear regression or logistic regression problem. This will help solidify your understanding, and give you a chance to differentiate the generic patterns in machine learning from problem-specific details.You can use one of these starer notebooks (just change the dataset):\n",
        "\n",
        "- Linear regression (minimal): https://jovian.ai/aakashns/housing-linear-minimal\n",
        "- Logistic regression (minimal): https://jovian.ai/aakashns/mnist-logistic-minimal\n",
        "\n",
        "Here are some sources to find good datasets:\n",
        "\n",
        "- https://lionbridge.ai/datasets/10-open-datasets-for-linear-regression/\n",
        "- https://www.kaggle.com/rtatman/datasets-for-regression-analysis\n",
        "- https://archive.ics.uci.edu/ml/datasets.php?format=&task=reg&att=&area=&numAtt=&numIns=&type=&sort=nameUp&view=table\n",
        "- https://people.sc.fsu.edu/~jburkardt/datasets/regression/regression.html\n",
        "- https://archive.ics.uci.edu/ml/datasets/wine+quality\n",
        "- https://pytorch.org/docs/stable/torchvision/datasets.html\n",
        "\n",
        "We also recommend that you write a blog about your approach to the problem. Here is a suggested structure for your post (feel free to experiment with it):\n",
        "\n",
        "- Interesting title & subtitle\n",
        "- Overview of what the blog covers (which dataset, linear regression or logistic regression, intro to PyTorch)\n",
        "- Downloading & exploring the data\n",
        "- Preparing the data for training\n",
        "- Creating a model using PyTorch\n",
        "- Training the model to fit the data\n",
        "- Your thoughts on how to experiment with different hyperparmeters to reduce loss\n",
        "- Making predictions using the model\n",
        "\n",
        "As with the previous assignment, you can [embed Juptyer notebook cells & outputs from Jovian](https://medium.com/jovianml/share-and-embed-jupyter-notebooks-online-with-jovian-ml-df709a03064e) into your blog. \n",
        "\n",
        "Don't forget to share your work on the forum: https://jovian.ai/forum/t/linear-regression-and-logistic-regression-notebooks-and-blog-posts/14039"
      ]
    },
    {
      "cell_type": "code",
      "metadata": {
        "id": "kiBTBdtaNmNk",
        "outputId": "cccede3a-b893-4e10-8e67-82b7e94a3d59"
      },
      "source": [
        "jovian.commit(project=project_name, environment=None)\n",
        "jovian.commit(project=project_name, environment=None) # try again, kaggle fails sometimes"
      ],
      "execution_count": null,
      "outputs": [
        {
          "output_type": "display_data",
          "data": {
            "application/javascript": [
              "window.require && require([\"base/js/namespace\"],function(Jupyter){Jupyter.notebook.save_checkpoint()})"
            ],
            "text/plain": [
              "<IPython.core.display.Javascript object>"
            ]
          },
          "metadata": {
            "tags": []
          }
        },
        {
          "output_type": "stream",
          "text": [
            "[jovian] Attempting to save notebook..\u001b[0m\n",
            "[jovian] Updating notebook \"aakashns/02-insurance-linear-regression\" on https://jovian.ai/\u001b[0m\n",
            "[jovian] Uploading notebook..\u001b[0m\n",
            "[jovian] Committed successfully! https://jovian.ai/aakashns/02-insurance-linear-regression\u001b[0m\n"
          ],
          "name": "stdout"
        },
        {
          "output_type": "display_data",
          "data": {
            "application/javascript": [
              "window.require && require([\"base/js/namespace\"],function(Jupyter){Jupyter.notebook.save_checkpoint()})"
            ],
            "text/plain": [
              "<IPython.core.display.Javascript object>"
            ]
          },
          "metadata": {
            "tags": []
          }
        },
        {
          "output_type": "stream",
          "text": [
            "[jovian] Attempting to save notebook..\u001b[0m\n"
          ],
          "name": "stdout"
        }
      ]
    },
    {
      "cell_type": "code",
      "metadata": {
        "id": "lBpsbCdTNmNl"
      },
      "source": [
        ""
      ],
      "execution_count": null,
      "outputs": []
    }
  ]
}